{
 "cells": [
  {
   "cell_type": "code",
   "execution_count": 5,
   "id": "d8d33596",
   "metadata": {},
   "outputs": [],
   "source": [
    "# filepath: c:\\Users\\mahme\\trading_bot\\notebooks\\train_lstm.ipynb\n",
    "import os\n",
    "import sys\n",
    "sys.path.append(os.path.abspath(\"..\"))"
   ]
  },
  {
   "cell_type": "code",
   "execution_count": 6,
   "id": "0b3f9ea6",
   "metadata": {},
   "outputs": [
    {
     "ename": "ModuleNotFoundError",
     "evalue": "No module named 'pandas'",
     "output_type": "error",
     "traceback": [
      "\u001b[31m---------------------------------------------------------------------------\u001b[39m",
      "\u001b[31mModuleNotFoundError\u001b[39m                       Traceback (most recent call last)",
      "\u001b[36mCell\u001b[39m\u001b[36m \u001b[39m\u001b[32mIn[6]\u001b[39m\u001b[32m, line 1\u001b[39m\n\u001b[32m----> \u001b[39m\u001b[32m1\u001b[39m \u001b[38;5;28;01mimport\u001b[39;00m\u001b[38;5;250m \u001b[39m\u001b[34;01mpandas\u001b[39;00m\u001b[38;5;250m \u001b[39m\u001b[38;5;28;01mas\u001b[39;00m\u001b[38;5;250m \u001b[39m\u001b[34;01mpd\u001b[39;00m\n\u001b[32m      2\u001b[39m \u001b[38;5;28;01mfrom\u001b[39;00m\u001b[38;5;250m \u001b[39m\u001b[34;01msrc\u001b[39;00m\u001b[34;01m.\u001b[39;00m\u001b[34;01mdata_fetch\u001b[39;00m\u001b[38;5;250m \u001b[39m\u001b[38;5;28;01mimport\u001b[39;00m connect_mt5, fetch_symbol_data\n\u001b[32m      3\u001b[39m \u001b[38;5;28;01mfrom\u001b[39;00m\u001b[38;5;250m \u001b[39m\u001b[34;01msrc\u001b[39;00m\u001b[34;01m.\u001b[39;00m\u001b[34;01mfeatures\u001b[39;00m\u001b[38;5;250m \u001b[39m\u001b[38;5;28;01mimport\u001b[39;00m (add_RSI_EMA, add_ATR, add_candlestick_patterns,\n\u001b[32m      4\u001b[39m                           add_VSA_signals, add_order_blocks, create_sequences)\n",
      "\u001b[31mModuleNotFoundError\u001b[39m: No module named 'pandas'"
     ]
    }
   ],
   "source": [
    "import pandas as pd\n",
    "from src.data_fetch import connect_mt5, fetch_symbol_data\n",
    "from src.features import (add_RSI_EMA, add_ATR, add_candlestick_patterns,\n",
    "                          add_VSA_signals, add_order_blocks, create_sequences)\n",
    "from src.model_lstm import train_model\n",
    "\n",
    "# 1. Fetch or load CSV\n",
    "df = pd.read_csv(\"data/XAUUSD_M5.csv\", parse_dates=[\"time\"])\n",
    "\n",
    "# 2. Compute features\n",
    "df = add_RSI_EMA(df, rsi_period=14, ema_periods=[20, 50])\n",
    "df = add_ATR(df, atr_period=14)\n",
    "df = add_candlestick_patterns(df)\n",
    "df = add_VSA_signals(df)\n",
    "df = add_order_blocks(df)\n",
    "\n",
    "# 3. Generate a direction label\n",
    "df[\"Direction\"] = (df[\"Close\"].shift(-1) > df[\"Close\"]).astype(int)\n",
    "df.dropna(inplace=True)\n",
    "\n",
    "# 4. Choose feature columns for the model\n",
    "feature_cols = [\n",
    "    \"Close\", \"RSI\", \"EMA_20\", \"EMA_50\", \"ATR\",\n",
    "    \"HAMMER\", \"ENGULFING\", \"DOJI\",\n",
    "    \"Climactic_Spread\", \"No_Demand\", \"No_Supply\",\n",
    "    \"Bullish_OB\", \"Bearish_OB\"\n",
    "]\n",
    "label_col = \"Direction\"\n",
    "\n",
    "# 5. Split into train/val (e.g., 80/20 chronological split)\n",
    "train_size = int(len(df) * 0.8)\n",
    "df_train = df.iloc[:train_size]\n",
    "df_val = df.iloc[train_size:]\n",
    "\n",
    "# 6. Create sequences\n",
    "lookback = 60  # e.g., last 60 M5 bars (~5 hours)\n",
    "X_train, y_train, scaler = create_sequences(df_train, feature_cols, label_col, lookback)\n",
    "X_val, y_val, _ = create_sequences(df_val, feature_cols, label_col, lookback)\n",
    "\n",
    "# 7. Train\n",
    "input_shape = (X_train.shape[1], X_train.shape[2])\n",
    "model, history = train_model(X_train, y_train, X_val, y_val, input_shape,\n",
    "                             model_save_path=\"models/XAUUSD_M5_lstm.h5\",\n",
    "                             epochs=30, batch_size=64)\n"
   ]
  }
 ],
 "metadata": {
  "kernelspec": {
   "display_name": "Python 3",
   "language": "python",
   "name": "python3"
  },
  "language_info": {
   "codemirror_mode": {
    "name": "ipython",
    "version": 3
   },
   "file_extension": ".py",
   "mimetype": "text/x-python",
   "name": "python",
   "nbconvert_exporter": "python",
   "pygments_lexer": "ipython3",
   "version": "3.11.0"
  }
 },
 "nbformat": 4,
 "nbformat_minor": 5
}
