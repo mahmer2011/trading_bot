{
 "cells": [
  {
   "cell_type": "code",
   "execution_count": 1,
   "id": "d8d33596",
   "metadata": {},
   "outputs": [],
   "source": [
    "# If you need to install any missing packages, uncomment:\n",
    "# %pip install talib-binary      # or your platform’s TA-Lib wheel\n",
    "# %pip install MetaTrader5\n",
    "\n",
    "import os\n",
    "import sys\n",
    "# Ensure `trading_bot/src` is on sys.path so we can import our modules\n",
    "sys.path.append(os.path.abspath(\"..\"))\n",
    "os.chdir(\"..\")\n",
    "\n",
    "import pandas as pd\n",
    "import talib\n",
    "import numpy as np\n",
    "\n",
    "from src.data_fetch import connect_mt5, fetch_symbol_data\n",
    "from src.features   import (\n",
    "    add_RSI_EMA, \n",
    "    add_ATR, \n",
    "    add_candlestick_patterns,\n",
    "    add_VSA_signals_refined, \n",
    "    detect_order_blocks,\n",
    "    create_sequences\n",
    ")\n"
   ]
  },
  {
   "cell_type": "code",
   "execution_count": 2,
   "id": "94afb427",
   "metadata": {},
   "outputs": [
    {
     "name": "stderr",
     "output_type": "stream",
     "text": [
      "C:\\Users\\mahme\\AppData\\Local\\Temp\\ipykernel_80412\\941879484.py:47: FutureWarning: A value is trying to be set on a copy of a DataFrame or Series through chained assignment using an inplace method.\n",
      "The behavior will change in pandas 3.0. This inplace method will never work because the intermediate object on which we are setting values always behaves as a copy.\n",
      "\n",
      "For example, when doing 'df[col].method(value, inplace=True)', try using 'df.method({col: value}, inplace=True)' or df[col] = df[col].method(value) instead, to perform the operation inplace on the original object.\n",
      "\n",
      "\n",
      "  df[\"Distance_to_OB\"].fillna(1.0, inplace=True)\n"
     ]
    }
   ],
   "source": [
    "# Load your M5 CSV (make sure this file exists under data/)\n",
    "df = pd.read_csv(\"data/XAUUSD_M5.csv\", parse_dates=[\"time\"])\n",
    "\n",
    "# 1 Compute RSI and EMAs on M5\n",
    "df = add_RSI_EMA(df, rsi_period=14, ema_periods=[20, 50])\n",
    "\n",
    "# 2 Compute ATR (used later for VSA thresholds and SL/TP)\n",
    "df = add_ATR(df, atr_period=14)\n",
    "\n",
    "# 3 Build the 3‐class label (Up/Down/Hold) using ATR_14 threshold logic\n",
    "#    First, compute ATR_14 explicitly\n",
    "df[\"ATR_14\"] = talib.ATR(df[\"High\"], df[\"Low\"], df[\"Close\"], timeperiod=14)\n",
    "#    Next‐bar percent change\n",
    "df[\"next_pct_change\"] = (df[\"Close\"].shift(-1) - df[\"Close\"]) / df[\"Close\"]\n",
    "#    Threshold = 0.5 × (ATR_14 / Close)\n",
    "df[\"threshold\"] = 0.5 * (df[\"ATR_14\"] / df[\"Close\"])\n",
    "\n",
    "# Label function\n",
    "def label_with_hold(row):\n",
    "    change = row[\"next_pct_change\"]\n",
    "    thr    = row[\"threshold\"]\n",
    "    if abs(change) <= thr:\n",
    "        return 2   # Hold\n",
    "    elif change > thr:\n",
    "        return 1   # Up\n",
    "    else:\n",
    "        return 0   # Down\n",
    "\n",
    "df[\"Direction3\"] = df.apply(label_with_hold, axis=1)\n",
    "\n",
    "# 4 Candlestick patterns (hammer, engulfing, doji)\n",
    "df = add_candlestick_patterns(df)\n",
    "\n",
    "# 5 VSA signals (No Demand, No Supply, Buying Climax, etc.)\n",
    "df = add_VSA_signals_refined(df)\n",
    "\n",
    "# 6 Detect raw order‐block candles (OB_type and OB_price)\n",
    "df = detect_order_blocks(df)\n",
    "\n",
    "# 7 Convert OB_type/OB_price into numeric features:\n",
    "#    - OB_bullish = 1 whenever OB_type == \"bullish\"; else 0\n",
    "#    - OB_bearish = 1 whenever OB_type == \"bearish\"; else 0\n",
    "#    - Distance_to_OB = |Close − OB_price| / Close; if no OB on that bar, set to 1.0\n",
    "df[\"OB_bullish\"]     = (df[\"OB_type\"] == \"bullish\").astype(int)\n",
    "df[\"OB_bearish\"]     = (df[\"OB_type\"] == \"bearish\").astype(int)\n",
    "df[\"Distance_to_OB\"] = (df[\"Close\"] - df[\"OB_price\"]).abs() / df[\"Close\"]\n",
    "df[\"Distance_to_OB\"].fillna(1.0, inplace=True)\n",
    "\n",
    "# At this point, OB_type/OB_price still exist (with many NaNs), \n",
    "# but the 3 derived columns (OB_bullish, OB_bearish, Distance_to_OB) are fully numeric.\n"
   ]
  },
  {
   "cell_type": "code",
   "execution_count": 3,
   "id": "d57c6c44",
   "metadata": {},
   "outputs": [],
   "source": [
    "# Load H1 CSV\n",
    "df_h1 = pd.read_csv(\"data/XAUUSD_H1.csv\", parse_dates=[\"time\"])\n",
    "\n",
    "# 1) Compute H1 indicators identically to M5\n",
    "df_h1 = add_RSI_EMA(df_h1,  rsi_period=14, ema_periods=[50, 100])\n",
    "df_h1 = add_ATR(df_h1,     atr_period=14)\n",
    "\n",
    "# 2) Keep only the H1 columns we need\n",
    "df_h1 = df_h1[[\"time\", \"RSI\", \"EMA_50\", \"ATR\"]].rename(columns={\n",
    "    \"RSI\":    \"H1_RSI\",\n",
    "    \"EMA_50\": \"H1_EMA_50\",\n",
    "    \"ATR\":    \"H1_ATR\"\n",
    "})\n",
    "\n",
    "# 3) Sort both DataFrames by time\n",
    "df   = df.sort_values(\"time\").reset_index(drop=True)\n",
    "df_h1 = df_h1.sort_values(\"time\").reset_index(drop=True)\n",
    "\n",
    "# 4) Merge via merge_asof: for each M5 time T, pick the most recent H1 row with time ≤ T\n",
    "df = pd.merge_asof(\n",
    "    left=df,\n",
    "    right=df_h1,\n",
    "    left_on=\"time\",\n",
    "    right_on=\"time\",\n",
    "    direction=\"backward\"\n",
    ")\n",
    "\n",
    "# At this point, df[\"H1_RSI\"], df[\"H1_EMA_50\"], df[\"H1_ATR\"] are filled for every M5 row \n",
    "# (except perhaps the very first few if the H1 series begins after the first M5 timestamp).\n"
   ]
  },
  {
   "cell_type": "code",
   "execution_count": 4,
   "id": "5f385aa2",
   "metadata": {},
   "outputs": [
    {
     "name": "stdout",
     "output_type": "stream",
     "text": [
      "▶ NaNs per column BEFORE dropna:\n",
      "time                       0\n",
      "Open                       0\n",
      "High                       0\n",
      "Low                        0\n",
      "Close                      0\n",
      "Volume                     0\n",
      "RSI                       14\n",
      "EMA_20                    19\n",
      "EMA_50                    49\n",
      "ATR                       14\n",
      "ATR_14                    14\n",
      "next_pct_change            1\n",
      "threshold                 14\n",
      "Direction3                 0\n",
      "HAMMER                     0\n",
      "ENGULFING                  0\n",
      "DOJI                       0\n",
      "vsa_signal                 0\n",
      "VSA_No_Demand              0\n",
      "VSA_No_Supply              0\n",
      "VSA_Buying_Climax          0\n",
      "VSA_Selling_Climax         0\n",
      "VSA_Stopping_Volume        0\n",
      "OB_type                20000\n",
      "OB_price               20000\n",
      "OB_bullish                 0\n",
      "OB_bearish                 0\n",
      "Distance_to_OB             0\n",
      "H1_RSI                     0\n",
      "H1_EMA_50                  0\n",
      "H1_ATR                     0\n",
      "dtype: int64\n",
      "\n",
      "▶ NaNs in essential feature columns:\n",
      "RSI                14\n",
      "EMA_20             19\n",
      "EMA_50             49\n",
      "ATR                14\n",
      "ATR_14             14\n",
      "next_pct_change     1\n",
      "threshold          14\n",
      "Direction3          0\n",
      "H1_RSI              0\n",
      "H1_EMA_50           0\n",
      "H1_ATR              0\n",
      "dtype: int64\n"
     ]
    },
    {
     "data": {
      "text/html": [
       "<div>\n",
       "<style scoped>\n",
       "    .dataframe tbody tr th:only-of-type {\n",
       "        vertical-align: middle;\n",
       "    }\n",
       "\n",
       "    .dataframe tbody tr th {\n",
       "        vertical-align: top;\n",
       "    }\n",
       "\n",
       "    .dataframe thead th {\n",
       "        text-align: right;\n",
       "    }\n",
       "</style>\n",
       "<table border=\"1\" class=\"dataframe\">\n",
       "  <thead>\n",
       "    <tr style=\"text-align: right;\">\n",
       "      <th></th>\n",
       "      <th>time</th>\n",
       "      <th>Open</th>\n",
       "      <th>High</th>\n",
       "      <th>Low</th>\n",
       "      <th>Close</th>\n",
       "      <th>Volume</th>\n",
       "      <th>RSI</th>\n",
       "      <th>EMA_20</th>\n",
       "      <th>EMA_50</th>\n",
       "      <th>ATR</th>\n",
       "      <th>...</th>\n",
       "      <th>VSA_Selling_Climax</th>\n",
       "      <th>VSA_Stopping_Volume</th>\n",
       "      <th>OB_type</th>\n",
       "      <th>OB_price</th>\n",
       "      <th>OB_bullish</th>\n",
       "      <th>OB_bearish</th>\n",
       "      <th>Distance_to_OB</th>\n",
       "      <th>H1_RSI</th>\n",
       "      <th>H1_EMA_50</th>\n",
       "      <th>H1_ATR</th>\n",
       "    </tr>\n",
       "  </thead>\n",
       "  <tbody>\n",
       "    <tr>\n",
       "      <th>0</th>\n",
       "      <td>2025-02-21 08:10:00</td>\n",
       "      <td>2928.23</td>\n",
       "      <td>2929.92</td>\n",
       "      <td>2927.83</td>\n",
       "      <td>2928.79</td>\n",
       "      <td>600</td>\n",
       "      <td>NaN</td>\n",
       "      <td>NaN</td>\n",
       "      <td>NaN</td>\n",
       "      <td>NaN</td>\n",
       "      <td>...</td>\n",
       "      <td>0</td>\n",
       "      <td>0</td>\n",
       "      <td>NaN</td>\n",
       "      <td>NaN</td>\n",
       "      <td>0</td>\n",
       "      <td>0</td>\n",
       "      <td>1.0</td>\n",
       "      <td>42.792434</td>\n",
       "      <td>2934.764935</td>\n",
       "      <td>8.449047</td>\n",
       "    </tr>\n",
       "    <tr>\n",
       "      <th>1</th>\n",
       "      <td>2025-02-21 08:15:00</td>\n",
       "      <td>2928.81</td>\n",
       "      <td>2929.48</td>\n",
       "      <td>2926.42</td>\n",
       "      <td>2927.93</td>\n",
       "      <td>745</td>\n",
       "      <td>NaN</td>\n",
       "      <td>NaN</td>\n",
       "      <td>NaN</td>\n",
       "      <td>NaN</td>\n",
       "      <td>...</td>\n",
       "      <td>0</td>\n",
       "      <td>0</td>\n",
       "      <td>NaN</td>\n",
       "      <td>NaN</td>\n",
       "      <td>0</td>\n",
       "      <td>0</td>\n",
       "      <td>1.0</td>\n",
       "      <td>42.792434</td>\n",
       "      <td>2934.764935</td>\n",
       "      <td>8.449047</td>\n",
       "    </tr>\n",
       "    <tr>\n",
       "      <th>2</th>\n",
       "      <td>2025-02-21 08:20:00</td>\n",
       "      <td>2928.01</td>\n",
       "      <td>2928.59</td>\n",
       "      <td>2927.33</td>\n",
       "      <td>2927.89</td>\n",
       "      <td>660</td>\n",
       "      <td>NaN</td>\n",
       "      <td>NaN</td>\n",
       "      <td>NaN</td>\n",
       "      <td>NaN</td>\n",
       "      <td>...</td>\n",
       "      <td>0</td>\n",
       "      <td>0</td>\n",
       "      <td>NaN</td>\n",
       "      <td>NaN</td>\n",
       "      <td>0</td>\n",
       "      <td>0</td>\n",
       "      <td>1.0</td>\n",
       "      <td>42.792434</td>\n",
       "      <td>2934.764935</td>\n",
       "      <td>8.449047</td>\n",
       "    </tr>\n",
       "    <tr>\n",
       "      <th>3</th>\n",
       "      <td>2025-02-21 08:25:00</td>\n",
       "      <td>2927.81</td>\n",
       "      <td>2928.86</td>\n",
       "      <td>2927.25</td>\n",
       "      <td>2928.77</td>\n",
       "      <td>700</td>\n",
       "      <td>NaN</td>\n",
       "      <td>NaN</td>\n",
       "      <td>NaN</td>\n",
       "      <td>NaN</td>\n",
       "      <td>...</td>\n",
       "      <td>0</td>\n",
       "      <td>0</td>\n",
       "      <td>NaN</td>\n",
       "      <td>NaN</td>\n",
       "      <td>0</td>\n",
       "      <td>0</td>\n",
       "      <td>1.0</td>\n",
       "      <td>42.792434</td>\n",
       "      <td>2934.764935</td>\n",
       "      <td>8.449047</td>\n",
       "    </tr>\n",
       "    <tr>\n",
       "      <th>4</th>\n",
       "      <td>2025-02-21 08:30:00</td>\n",
       "      <td>2928.75</td>\n",
       "      <td>2931.38</td>\n",
       "      <td>2928.58</td>\n",
       "      <td>2930.80</td>\n",
       "      <td>745</td>\n",
       "      <td>NaN</td>\n",
       "      <td>NaN</td>\n",
       "      <td>NaN</td>\n",
       "      <td>NaN</td>\n",
       "      <td>...</td>\n",
       "      <td>0</td>\n",
       "      <td>0</td>\n",
       "      <td>NaN</td>\n",
       "      <td>NaN</td>\n",
       "      <td>0</td>\n",
       "      <td>0</td>\n",
       "      <td>1.0</td>\n",
       "      <td>42.792434</td>\n",
       "      <td>2934.764935</td>\n",
       "      <td>8.449047</td>\n",
       "    </tr>\n",
       "  </tbody>\n",
       "</table>\n",
       "<p>5 rows × 31 columns</p>\n",
       "</div>"
      ],
      "text/plain": [
       "                 time     Open     High      Low    Close  Volume  RSI  \\\n",
       "0 2025-02-21 08:10:00  2928.23  2929.92  2927.83  2928.79     600  NaN   \n",
       "1 2025-02-21 08:15:00  2928.81  2929.48  2926.42  2927.93     745  NaN   \n",
       "2 2025-02-21 08:20:00  2928.01  2928.59  2927.33  2927.89     660  NaN   \n",
       "3 2025-02-21 08:25:00  2927.81  2928.86  2927.25  2928.77     700  NaN   \n",
       "4 2025-02-21 08:30:00  2928.75  2931.38  2928.58  2930.80     745  NaN   \n",
       "\n",
       "   EMA_20  EMA_50  ATR  ...  VSA_Selling_Climax  VSA_Stopping_Volume  OB_type  \\\n",
       "0     NaN     NaN  NaN  ...                   0                    0      NaN   \n",
       "1     NaN     NaN  NaN  ...                   0                    0      NaN   \n",
       "2     NaN     NaN  NaN  ...                   0                    0      NaN   \n",
       "3     NaN     NaN  NaN  ...                   0                    0      NaN   \n",
       "4     NaN     NaN  NaN  ...                   0                    0      NaN   \n",
       "\n",
       "   OB_price  OB_bullish  OB_bearish  Distance_to_OB     H1_RSI    H1_EMA_50  \\\n",
       "0       NaN           0           0             1.0  42.792434  2934.764935   \n",
       "1       NaN           0           0             1.0  42.792434  2934.764935   \n",
       "2       NaN           0           0             1.0  42.792434  2934.764935   \n",
       "3       NaN           0           0             1.0  42.792434  2934.764935   \n",
       "4       NaN           0           0             1.0  42.792434  2934.764935   \n",
       "\n",
       "     H1_ATR  \n",
       "0  8.449047  \n",
       "1  8.449047  \n",
       "2  8.449047  \n",
       "3  8.449047  \n",
       "4  8.449047  \n",
       "\n",
       "[5 rows x 31 columns]"
      ]
     },
     "execution_count": 4,
     "metadata": {},
     "output_type": "execute_result"
    }
   ],
   "source": [
    "# 1) Check for any NaNs in critical columns\n",
    "print(\"▶ NaNs per column BEFORE dropna:\")\n",
    "print(df.isna().sum())\n",
    "\n",
    "# 2) Focus on core features (not OB_type or OB_price themselves):\n",
    "#    We want NaNs only in the very first rows where RSI/EMA/ATR aren’t available yet.\n",
    "essential_cols = [\n",
    "    \"RSI\", \"EMA_20\", \"EMA_50\", \"ATR\",\n",
    "    \"ATR_14\", \"next_pct_change\", \"threshold\", \"Direction3\",\n",
    "    \"H1_RSI\", \"H1_EMA_50\", \"H1_ATR\"\n",
    "]\n",
    "print(\"\\n▶ NaNs in essential feature columns:\")\n",
    "print(df[essential_cols].isna().sum())\n",
    "\n",
    "# 3) Show the first few rows (so you can eyeball all columns)\n",
    "df.head(5)\n"
   ]
  },
  {
   "cell_type": "code",
   "execution_count": 5,
   "id": "21b8199b",
   "metadata": {},
   "outputs": [
    {
     "name": "stdout",
     "output_type": "stream",
     "text": [
      "▶ Rows remaining AFTER dropna: 19950\n",
      "\n",
      "▶ 3‐class distribution (%):\n",
      "Direction3\n",
      "2    60.461153\n",
      "1    20.431078\n",
      "0    19.107769\n",
      "Name: proportion, dtype: float64\n",
      "\n",
      "▶ df_train rows: 15960, df_val rows: 3990\n"
     ]
    }
   ],
   "source": [
    "# Drop only the rows that truly lack a numeric feature (first ~50 rows):\n",
    "df.dropna(subset=essential_cols, inplace=True)\n",
    "df.reset_index(drop=True, inplace=True)\n",
    "print(\"▶ Rows remaining AFTER dropna:\", len(df))\n",
    "\n",
    "# Inspect the 3‐class distribution\n",
    "dist3 = df[\"Direction3\"].value_counts(normalize=True) * 100\n",
    "print(\"\\n▶ 3‐class distribution (%):\")\n",
    "print(dist3)\n",
    "\n",
    "# Chronological 80/20 train/validation split\n",
    "train_size = int(len(df) * 0.8)\n",
    "df_train   = df.iloc[:train_size].copy()\n",
    "df_val     = df.iloc[train_size:].copy()\n",
    "print(f\"\\n▶ df_train rows: {len(df_train)}, df_val rows: {len(df_val)}\")\n",
    "\n",
    "# If df_train is still too small relative to your lookback, either fetch more data \n",
    "# or reduce lookback. We'll check that next.\n"
   ]
  },
  {
   "cell_type": "code",
   "execution_count": 6,
   "id": "e237e1f2",
   "metadata": {},
   "outputs": [
    {
     "name": "stdout",
     "output_type": "stream",
     "text": [
      "▶ Missing feature columns (should be []): []\n",
      "\n",
      "▶ X_train shape: (15899, 60, 16) y_train shape: (15899,)\n",
      "▶ X_val   shape: (3929, 60, 16) y_val   shape: (3929,)\n"
     ]
    }
   ],
   "source": [
    "# Define the exact feature columns for modeling (all numeric)\n",
    "feature_cols = [\n",
    "    \"Close\", \"RSI\",       \"EMA_20\", \"EMA_50\", \"ATR\",\n",
    "    \"H1_RSI\", \"H1_EMA_50\",\"H1_ATR\",\n",
    "    \"VSA_No_Demand\", \"VSA_No_Supply\", \"VSA_Buying_Climax\",\n",
    "    \"VSA_Selling_Climax\", \"VSA_Stopping_Volume\",\n",
    "    \"OB_bullish\", \"OB_bearish\", \"Distance_to_OB\"\n",
    "]\n",
    "label_col = \"Direction3\"\n",
    "lookback  = 60   # if df_train has ≥ 62 rows, this will produce at least one sequence\n",
    "\n",
    "# Quick check that all feature columns exist:\n",
    "missing = [c for c in feature_cols if c not in df_train.columns]\n",
    "print(\"▶ Missing feature columns (should be []):\", missing)\n",
    "\n",
    "# Build sequences for train & val\n",
    "X_train, y_train, scaler = create_sequences(df_train, feature_cols, label_col, lookback)\n",
    "X_val,   y_val,   _      = create_sequences(df_val,   feature_cols, label_col, lookback)\n",
    "\n",
    "print(\"\\n▶ X_train shape:\", X_train.shape, \"y_train shape:\", y_train.shape)\n",
    "print(\"▶ X_val   shape:\", X_val.shape,   \"y_val   shape:\", y_val.shape)\n"
   ]
  },
  {
   "cell_type": "code",
   "execution_count": 7,
   "id": "7dd7884d",
   "metadata": {},
   "outputs": [
    {
     "data": {
      "text/html": [
       "<pre style=\"white-space:pre;overflow-x:auto;line-height:normal;font-family:Menlo,'DejaVu Sans Mono',consolas,'Courier New',monospace\"><span style=\"font-weight: bold\">Model: \"sequential\"</span>\n",
       "</pre>\n"
      ],
      "text/plain": [
       "\u001b[1mModel: \"sequential\"\u001b[0m\n"
      ]
     },
     "metadata": {},
     "output_type": "display_data"
    },
    {
     "data": {
      "text/html": [
       "<pre style=\"white-space:pre;overflow-x:auto;line-height:normal;font-family:Menlo,'DejaVu Sans Mono',consolas,'Courier New',monospace\">┏━━━━━━━━━━━━━━━━━━━━━━━━━━━━━━━━━┳━━━━━━━━━━━━━━━━━━━━━━━━┳━━━━━━━━━━━━━━━┓\n",
       "┃<span style=\"font-weight: bold\"> Layer (type)                    </span>┃<span style=\"font-weight: bold\"> Output Shape           </span>┃<span style=\"font-weight: bold\">       Param # </span>┃\n",
       "┡━━━━━━━━━━━━━━━━━━━━━━━━━━━━━━━━━╇━━━━━━━━━━━━━━━━━━━━━━━━╇━━━━━━━━━━━━━━━┩\n",
       "│ lstm (<span style=\"color: #0087ff; text-decoration-color: #0087ff\">LSTM</span>)                     │ (<span style=\"color: #00d7ff; text-decoration-color: #00d7ff\">None</span>, <span style=\"color: #00af00; text-decoration-color: #00af00\">60</span>, <span style=\"color: #00af00; text-decoration-color: #00af00\">128</span>)        │        <span style=\"color: #00af00; text-decoration-color: #00af00\">74,240</span> │\n",
       "├─────────────────────────────────┼────────────────────────┼───────────────┤\n",
       "│ batch_normalization             │ (<span style=\"color: #00d7ff; text-decoration-color: #00d7ff\">None</span>, <span style=\"color: #00af00; text-decoration-color: #00af00\">60</span>, <span style=\"color: #00af00; text-decoration-color: #00af00\">128</span>)        │           <span style=\"color: #00af00; text-decoration-color: #00af00\">512</span> │\n",
       "│ (<span style=\"color: #0087ff; text-decoration-color: #0087ff\">BatchNormalization</span>)            │                        │               │\n",
       "├─────────────────────────────────┼────────────────────────┼───────────────┤\n",
       "│ dropout (<span style=\"color: #0087ff; text-decoration-color: #0087ff\">Dropout</span>)               │ (<span style=\"color: #00d7ff; text-decoration-color: #00d7ff\">None</span>, <span style=\"color: #00af00; text-decoration-color: #00af00\">60</span>, <span style=\"color: #00af00; text-decoration-color: #00af00\">128</span>)        │             <span style=\"color: #00af00; text-decoration-color: #00af00\">0</span> │\n",
       "├─────────────────────────────────┼────────────────────────┼───────────────┤\n",
       "│ lstm_1 (<span style=\"color: #0087ff; text-decoration-color: #0087ff\">LSTM</span>)                   │ (<span style=\"color: #00d7ff; text-decoration-color: #00d7ff\">None</span>, <span style=\"color: #00af00; text-decoration-color: #00af00\">64</span>)             │        <span style=\"color: #00af00; text-decoration-color: #00af00\">49,408</span> │\n",
       "├─────────────────────────────────┼────────────────────────┼───────────────┤\n",
       "│ batch_normalization_1           │ (<span style=\"color: #00d7ff; text-decoration-color: #00d7ff\">None</span>, <span style=\"color: #00af00; text-decoration-color: #00af00\">64</span>)             │           <span style=\"color: #00af00; text-decoration-color: #00af00\">256</span> │\n",
       "│ (<span style=\"color: #0087ff; text-decoration-color: #0087ff\">BatchNormalization</span>)            │                        │               │\n",
       "├─────────────────────────────────┼────────────────────────┼───────────────┤\n",
       "│ dropout_1 (<span style=\"color: #0087ff; text-decoration-color: #0087ff\">Dropout</span>)             │ (<span style=\"color: #00d7ff; text-decoration-color: #00d7ff\">None</span>, <span style=\"color: #00af00; text-decoration-color: #00af00\">64</span>)             │             <span style=\"color: #00af00; text-decoration-color: #00af00\">0</span> │\n",
       "├─────────────────────────────────┼────────────────────────┼───────────────┤\n",
       "│ dense (<span style=\"color: #0087ff; text-decoration-color: #0087ff\">Dense</span>)                   │ (<span style=\"color: #00d7ff; text-decoration-color: #00d7ff\">None</span>, <span style=\"color: #00af00; text-decoration-color: #00af00\">32</span>)             │         <span style=\"color: #00af00; text-decoration-color: #00af00\">2,080</span> │\n",
       "├─────────────────────────────────┼────────────────────────┼───────────────┤\n",
       "│ batch_normalization_2           │ (<span style=\"color: #00d7ff; text-decoration-color: #00d7ff\">None</span>, <span style=\"color: #00af00; text-decoration-color: #00af00\">32</span>)             │           <span style=\"color: #00af00; text-decoration-color: #00af00\">128</span> │\n",
       "│ (<span style=\"color: #0087ff; text-decoration-color: #0087ff\">BatchNormalization</span>)            │                        │               │\n",
       "├─────────────────────────────────┼────────────────────────┼───────────────┤\n",
       "│ dropout_2 (<span style=\"color: #0087ff; text-decoration-color: #0087ff\">Dropout</span>)             │ (<span style=\"color: #00d7ff; text-decoration-color: #00d7ff\">None</span>, <span style=\"color: #00af00; text-decoration-color: #00af00\">32</span>)             │             <span style=\"color: #00af00; text-decoration-color: #00af00\">0</span> │\n",
       "├─────────────────────────────────┼────────────────────────┼───────────────┤\n",
       "│ dense_1 (<span style=\"color: #0087ff; text-decoration-color: #0087ff\">Dense</span>)                 │ (<span style=\"color: #00d7ff; text-decoration-color: #00d7ff\">None</span>, <span style=\"color: #00af00; text-decoration-color: #00af00\">3</span>)              │            <span style=\"color: #00af00; text-decoration-color: #00af00\">99</span> │\n",
       "└─────────────────────────────────┴────────────────────────┴───────────────┘\n",
       "</pre>\n"
      ],
      "text/plain": [
       "┏━━━━━━━━━━━━━━━━━━━━━━━━━━━━━━━━━┳━━━━━━━━━━━━━━━━━━━━━━━━┳━━━━━━━━━━━━━━━┓\n",
       "┃\u001b[1m \u001b[0m\u001b[1mLayer (type)                   \u001b[0m\u001b[1m \u001b[0m┃\u001b[1m \u001b[0m\u001b[1mOutput Shape          \u001b[0m\u001b[1m \u001b[0m┃\u001b[1m \u001b[0m\u001b[1m      Param #\u001b[0m\u001b[1m \u001b[0m┃\n",
       "┡━━━━━━━━━━━━━━━━━━━━━━━━━━━━━━━━━╇━━━━━━━━━━━━━━━━━━━━━━━━╇━━━━━━━━━━━━━━━┩\n",
       "│ lstm (\u001b[38;5;33mLSTM\u001b[0m)                     │ (\u001b[38;5;45mNone\u001b[0m, \u001b[38;5;34m60\u001b[0m, \u001b[38;5;34m128\u001b[0m)        │        \u001b[38;5;34m74,240\u001b[0m │\n",
       "├─────────────────────────────────┼────────────────────────┼───────────────┤\n",
       "│ batch_normalization             │ (\u001b[38;5;45mNone\u001b[0m, \u001b[38;5;34m60\u001b[0m, \u001b[38;5;34m128\u001b[0m)        │           \u001b[38;5;34m512\u001b[0m │\n",
       "│ (\u001b[38;5;33mBatchNormalization\u001b[0m)            │                        │               │\n",
       "├─────────────────────────────────┼────────────────────────┼───────────────┤\n",
       "│ dropout (\u001b[38;5;33mDropout\u001b[0m)               │ (\u001b[38;5;45mNone\u001b[0m, \u001b[38;5;34m60\u001b[0m, \u001b[38;5;34m128\u001b[0m)        │             \u001b[38;5;34m0\u001b[0m │\n",
       "├─────────────────────────────────┼────────────────────────┼───────────────┤\n",
       "│ lstm_1 (\u001b[38;5;33mLSTM\u001b[0m)                   │ (\u001b[38;5;45mNone\u001b[0m, \u001b[38;5;34m64\u001b[0m)             │        \u001b[38;5;34m49,408\u001b[0m │\n",
       "├─────────────────────────────────┼────────────────────────┼───────────────┤\n",
       "│ batch_normalization_1           │ (\u001b[38;5;45mNone\u001b[0m, \u001b[38;5;34m64\u001b[0m)             │           \u001b[38;5;34m256\u001b[0m │\n",
       "│ (\u001b[38;5;33mBatchNormalization\u001b[0m)            │                        │               │\n",
       "├─────────────────────────────────┼────────────────────────┼───────────────┤\n",
       "│ dropout_1 (\u001b[38;5;33mDropout\u001b[0m)             │ (\u001b[38;5;45mNone\u001b[0m, \u001b[38;5;34m64\u001b[0m)             │             \u001b[38;5;34m0\u001b[0m │\n",
       "├─────────────────────────────────┼────────────────────────┼───────────────┤\n",
       "│ dense (\u001b[38;5;33mDense\u001b[0m)                   │ (\u001b[38;5;45mNone\u001b[0m, \u001b[38;5;34m32\u001b[0m)             │         \u001b[38;5;34m2,080\u001b[0m │\n",
       "├─────────────────────────────────┼────────────────────────┼───────────────┤\n",
       "│ batch_normalization_2           │ (\u001b[38;5;45mNone\u001b[0m, \u001b[38;5;34m32\u001b[0m)             │           \u001b[38;5;34m128\u001b[0m │\n",
       "│ (\u001b[38;5;33mBatchNormalization\u001b[0m)            │                        │               │\n",
       "├─────────────────────────────────┼────────────────────────┼───────────────┤\n",
       "│ dropout_2 (\u001b[38;5;33mDropout\u001b[0m)             │ (\u001b[38;5;45mNone\u001b[0m, \u001b[38;5;34m32\u001b[0m)             │             \u001b[38;5;34m0\u001b[0m │\n",
       "├─────────────────────────────────┼────────────────────────┼───────────────┤\n",
       "│ dense_1 (\u001b[38;5;33mDense\u001b[0m)                 │ (\u001b[38;5;45mNone\u001b[0m, \u001b[38;5;34m3\u001b[0m)              │            \u001b[38;5;34m99\u001b[0m │\n",
       "└─────────────────────────────────┴────────────────────────┴───────────────┘\n"
      ]
     },
     "metadata": {},
     "output_type": "display_data"
    },
    {
     "data": {
      "text/html": [
       "<pre style=\"white-space:pre;overflow-x:auto;line-height:normal;font-family:Menlo,'DejaVu Sans Mono',consolas,'Courier New',monospace\"><span style=\"font-weight: bold\"> Total params: </span><span style=\"color: #00af00; text-decoration-color: #00af00\">126,723</span> (495.01 KB)\n",
       "</pre>\n"
      ],
      "text/plain": [
       "\u001b[1m Total params: \u001b[0m\u001b[38;5;34m126,723\u001b[0m (495.01 KB)\n"
      ]
     },
     "metadata": {},
     "output_type": "display_data"
    },
    {
     "data": {
      "text/html": [
       "<pre style=\"white-space:pre;overflow-x:auto;line-height:normal;font-family:Menlo,'DejaVu Sans Mono',consolas,'Courier New',monospace\"><span style=\"font-weight: bold\"> Trainable params: </span><span style=\"color: #00af00; text-decoration-color: #00af00\">126,275</span> (493.26 KB)\n",
       "</pre>\n"
      ],
      "text/plain": [
       "\u001b[1m Trainable params: \u001b[0m\u001b[38;5;34m126,275\u001b[0m (493.26 KB)\n"
      ]
     },
     "metadata": {},
     "output_type": "display_data"
    },
    {
     "data": {
      "text/html": [
       "<pre style=\"white-space:pre;overflow-x:auto;line-height:normal;font-family:Menlo,'DejaVu Sans Mono',consolas,'Courier New',monospace\"><span style=\"font-weight: bold\"> Non-trainable params: </span><span style=\"color: #00af00; text-decoration-color: #00af00\">448</span> (1.75 KB)\n",
       "</pre>\n"
      ],
      "text/plain": [
       "\u001b[1m Non-trainable params: \u001b[0m\u001b[38;5;34m448\u001b[0m (1.75 KB)\n"
      ]
     },
     "metadata": {},
     "output_type": "display_data"
    }
   ],
   "source": [
    "# ----- New Model Cell -----\n",
    "# 1) Import our build function\n",
    "from src.model_lstm import build_3class_lstm_model\n",
    "\n",
    "# 2) Define input_shape based on X_train\n",
    "#    X_train.shape == (num_samples, lookback, num_features)\n",
    "lookback     = X_train.shape[1]\n",
    "num_features = X_train.shape[2]\n",
    "input_shape  = (lookback, num_features)\n",
    "\n",
    "# 3) Build and compile\n",
    "model = build_3class_lstm_model(input_shape)\n",
    "model.summary()"
   ]
  },
  {
   "cell_type": "code",
   "execution_count": 8,
   "id": "001eac67",
   "metadata": {},
   "outputs": [
    {
     "name": "stdout",
     "output_type": "stream",
     "text": [
      "Epoch 1/50\n",
      "\u001b[1m249/249\u001b[0m \u001b[32m━━━━━━━━━━━━━━━━━━━━\u001b[0m\u001b[37m\u001b[0m \u001b[1m0s\u001b[0m 87ms/step - accuracy: 0.3480 - loss: 1.4576"
     ]
    },
    {
     "name": "stderr",
     "output_type": "stream",
     "text": [
      "WARNING:absl:You are saving your model as an HDF5 file via `model.save()` or `keras.saving.save_model(model)`. This file format is considered legacy. We recommend using instead the native Keras format, e.g. `model.save('my_model.keras')` or `keras.saving.save_model(model, 'my_model.keras')`. \n"
     ]
    },
    {
     "name": "stdout",
     "output_type": "stream",
     "text": [
      "\u001b[1m249/249\u001b[0m \u001b[32m━━━━━━━━━━━━━━━━━━━━\u001b[0m\u001b[37m\u001b[0m \u001b[1m29s\u001b[0m 98ms/step - accuracy: 0.3480 - loss: 1.4574 - val_accuracy: 0.4060 - val_loss: 1.0543\n",
      "Epoch 2/50\n",
      "\u001b[1m249/249\u001b[0m \u001b[32m━━━━━━━━━━━━━━━━━━━━\u001b[0m\u001b[37m\u001b[0m \u001b[1m0s\u001b[0m 83ms/step - accuracy: 0.3666 - loss: 1.3044"
     ]
    },
    {
     "name": "stderr",
     "output_type": "stream",
     "text": [
      "WARNING:absl:You are saving your model as an HDF5 file via `model.save()` or `keras.saving.save_model(model)`. This file format is considered legacy. We recommend using instead the native Keras format, e.g. `model.save('my_model.keras')` or `keras.saving.save_model(model, 'my_model.keras')`. \n"
     ]
    },
    {
     "name": "stdout",
     "output_type": "stream",
     "text": [
      "\u001b[1m249/249\u001b[0m \u001b[32m━━━━━━━━━━━━━━━━━━━━\u001b[0m\u001b[37m\u001b[0m \u001b[1m23s\u001b[0m 92ms/step - accuracy: 0.3666 - loss: 1.3043 - val_accuracy: 0.4365 - val_loss: 1.0683\n",
      "Epoch 3/50\n",
      "\u001b[1m249/249\u001b[0m \u001b[32m━━━━━━━━━━━━━━━━━━━━\u001b[0m\u001b[37m\u001b[0m \u001b[1m0s\u001b[0m 84ms/step - accuracy: 0.3713 - loss: 1.2681"
     ]
    },
    {
     "name": "stderr",
     "output_type": "stream",
     "text": [
      "WARNING:absl:You are saving your model as an HDF5 file via `model.save()` or `keras.saving.save_model(model)`. This file format is considered legacy. We recommend using instead the native Keras format, e.g. `model.save('my_model.keras')` or `keras.saving.save_model(model, 'my_model.keras')`. \n"
     ]
    },
    {
     "name": "stdout",
     "output_type": "stream",
     "text": [
      "\u001b[1m249/249\u001b[0m \u001b[32m━━━━━━━━━━━━━━━━━━━━\u001b[0m\u001b[37m\u001b[0m \u001b[1m23s\u001b[0m 93ms/step - accuracy: 0.3713 - loss: 1.2681 - val_accuracy: 0.4543 - val_loss: 1.0588\n",
      "Epoch 4/50\n",
      "\u001b[1m249/249\u001b[0m \u001b[32m━━━━━━━━━━━━━━━━━━━━\u001b[0m\u001b[37m\u001b[0m \u001b[1m0s\u001b[0m 85ms/step - accuracy: 0.4009 - loss: 1.2042"
     ]
    },
    {
     "name": "stderr",
     "output_type": "stream",
     "text": [
      "WARNING:absl:You are saving your model as an HDF5 file via `model.save()` or `keras.saving.save_model(model)`. This file format is considered legacy. We recommend using instead the native Keras format, e.g. `model.save('my_model.keras')` or `keras.saving.save_model(model, 'my_model.keras')`. \n"
     ]
    },
    {
     "name": "stdout",
     "output_type": "stream",
     "text": [
      "\u001b[1m249/249\u001b[0m \u001b[32m━━━━━━━━━━━━━━━━━━━━\u001b[0m\u001b[37m\u001b[0m \u001b[1m24s\u001b[0m 95ms/step - accuracy: 0.4009 - loss: 1.2041 - val_accuracy: 0.5398 - val_loss: 1.0117\n",
      "Epoch 5/50\n",
      "\u001b[1m249/249\u001b[0m \u001b[32m━━━━━━━━━━━━━━━━━━━━\u001b[0m\u001b[37m\u001b[0m \u001b[1m23s\u001b[0m 92ms/step - accuracy: 0.4131 - loss: 1.1828 - val_accuracy: 0.4589 - val_loss: 1.0515\n",
      "Epoch 6/50\n",
      "\u001b[1m248/249\u001b[0m \u001b[32m━━━━━━━━━━━━━━━━━━━\u001b[0m\u001b[37m━\u001b[0m \u001b[1m0s\u001b[0m 77ms/step - accuracy: 0.4457 - loss: 1.1256"
     ]
    },
    {
     "name": "stderr",
     "output_type": "stream",
     "text": [
      "WARNING:absl:You are saving your model as an HDF5 file via `model.save()` or `keras.saving.save_model(model)`. This file format is considered legacy. We recommend using instead the native Keras format, e.g. `model.save('my_model.keras')` or `keras.saving.save_model(model, 'my_model.keras')`. \n"
     ]
    },
    {
     "name": "stdout",
     "output_type": "stream",
     "text": [
      "\u001b[1m249/249\u001b[0m \u001b[32m━━━━━━━━━━━━━━━━━━━━\u001b[0m\u001b[37m\u001b[0m \u001b[1m22s\u001b[0m 87ms/step - accuracy: 0.4457 - loss: 1.1256 - val_accuracy: 0.5498 - val_loss: 0.9975\n",
      "Epoch 7/50\n",
      "\u001b[1m249/249\u001b[0m \u001b[32m━━━━━━━━━━━━━━━━━━━━\u001b[0m\u001b[37m\u001b[0m \u001b[1m0s\u001b[0m 78ms/step - accuracy: 0.4474 - loss: 1.1233"
     ]
    },
    {
     "name": "stderr",
     "output_type": "stream",
     "text": [
      "WARNING:absl:You are saving your model as an HDF5 file via `model.save()` or `keras.saving.save_model(model)`. This file format is considered legacy. We recommend using instead the native Keras format, e.g. `model.save('my_model.keras')` or `keras.saving.save_model(model, 'my_model.keras')`. \n"
     ]
    },
    {
     "name": "stdout",
     "output_type": "stream",
     "text": [
      "\u001b[1m249/249\u001b[0m \u001b[32m━━━━━━━━━━━━━━━━━━━━\u001b[0m\u001b[37m\u001b[0m \u001b[1m22s\u001b[0m 88ms/step - accuracy: 0.4474 - loss: 1.1232 - val_accuracy: 0.5918 - val_loss: 0.9747\n",
      "Epoch 8/50\n",
      "\u001b[1m249/249\u001b[0m \u001b[32m━━━━━━━━━━━━━━━━━━━━\u001b[0m\u001b[37m\u001b[0m \u001b[1m25s\u001b[0m 99ms/step - accuracy: 0.4803 - loss: 1.0847 - val_accuracy: 0.5882 - val_loss: 0.9789\n",
      "Epoch 9/50\n",
      "\u001b[1m248/249\u001b[0m \u001b[32m━━━━━━━━━━━━━━━━━━━\u001b[0m\u001b[37m━\u001b[0m \u001b[1m0s\u001b[0m 77ms/step - accuracy: 0.4865 - loss: 1.0729"
     ]
    },
    {
     "name": "stderr",
     "output_type": "stream",
     "text": [
      "WARNING:absl:You are saving your model as an HDF5 file via `model.save()` or `keras.saving.save_model(model)`. This file format is considered legacy. We recommend using instead the native Keras format, e.g. `model.save('my_model.keras')` or `keras.saving.save_model(model, 'my_model.keras')`. \n"
     ]
    },
    {
     "name": "stdout",
     "output_type": "stream",
     "text": [
      "\u001b[1m249/249\u001b[0m \u001b[32m━━━━━━━━━━━━━━━━━━━━\u001b[0m\u001b[37m\u001b[0m \u001b[1m22s\u001b[0m 87ms/step - accuracy: 0.4865 - loss: 1.0729 - val_accuracy: 0.5999 - val_loss: 0.9583\n",
      "Epoch 10/50\n",
      "\u001b[1m248/249\u001b[0m \u001b[32m━━━━━━━━━━━━━━━━━━━\u001b[0m\u001b[37m━\u001b[0m \u001b[1m0s\u001b[0m 78ms/step - accuracy: 0.4960 - loss: 1.0684"
     ]
    },
    {
     "name": "stderr",
     "output_type": "stream",
     "text": [
      "WARNING:absl:You are saving your model as an HDF5 file via `model.save()` or `keras.saving.save_model(model)`. This file format is considered legacy. We recommend using instead the native Keras format, e.g. `model.save('my_model.keras')` or `keras.saving.save_model(model, 'my_model.keras')`. \n"
     ]
    },
    {
     "name": "stdout",
     "output_type": "stream",
     "text": [
      "\u001b[1m249/249\u001b[0m \u001b[32m━━━━━━━━━━━━━━━━━━━━\u001b[0m\u001b[37m\u001b[0m \u001b[1m22s\u001b[0m 87ms/step - accuracy: 0.4960 - loss: 1.0684 - val_accuracy: 0.6075 - val_loss: 0.9514\n",
      "Epoch 11/50\n",
      "\u001b[1m249/249\u001b[0m \u001b[32m━━━━━━━━━━━━━━━━━━━━\u001b[0m\u001b[37m\u001b[0m \u001b[1m0s\u001b[0m 79ms/step - accuracy: 0.5027 - loss: 1.0625"
     ]
    },
    {
     "name": "stderr",
     "output_type": "stream",
     "text": [
      "WARNING:absl:You are saving your model as an HDF5 file via `model.save()` or `keras.saving.save_model(model)`. This file format is considered legacy. We recommend using instead the native Keras format, e.g. `model.save('my_model.keras')` or `keras.saving.save_model(model, 'my_model.keras')`. \n"
     ]
    },
    {
     "name": "stdout",
     "output_type": "stream",
     "text": [
      "\u001b[1m249/249\u001b[0m \u001b[32m━━━━━━━━━━━━━━━━━━━━\u001b[0m\u001b[37m\u001b[0m \u001b[1m42s\u001b[0m 89ms/step - accuracy: 0.5027 - loss: 1.0625 - val_accuracy: 0.6093 - val_loss: 0.9499\n",
      "Epoch 12/50\n",
      "\u001b[1m249/249\u001b[0m \u001b[32m━━━━━━━━━━━━━━━━━━━━\u001b[0m\u001b[37m\u001b[0m \u001b[1m21s\u001b[0m 86ms/step - accuracy: 0.5059 - loss: 1.0623 - val_accuracy: 0.6075 - val_loss: 0.9484\n",
      "Epoch 13/50\n",
      "\u001b[1m249/249\u001b[0m \u001b[32m━━━━━━━━━━━━━━━━━━━━\u001b[0m\u001b[37m\u001b[0m \u001b[1m22s\u001b[0m 86ms/step - accuracy: 0.5296 - loss: 1.0348 - val_accuracy: 0.6088 - val_loss: 0.9514\n",
      "Epoch 14/50\n",
      "\u001b[1m249/249\u001b[0m \u001b[32m━━━━━━━━━━━━━━━━━━━━\u001b[0m\u001b[37m\u001b[0m \u001b[1m23s\u001b[0m 94ms/step - accuracy: 0.5325 - loss: 1.0385 - val_accuracy: 0.6088 - val_loss: 0.9447\n",
      "Epoch 15/50\n",
      "\u001b[1m249/249\u001b[0m \u001b[32m━━━━━━━━━━━━━━━━━━━━\u001b[0m\u001b[37m\u001b[0m \u001b[1m33s\u001b[0m 132ms/step - accuracy: 0.5371 - loss: 1.0368 - val_accuracy: 0.6088 - val_loss: 0.9460\n",
      "Epoch 16/50\n",
      "\u001b[1m249/249\u001b[0m \u001b[32m━━━━━━━━━━━━━━━━━━━━\u001b[0m\u001b[37m\u001b[0m \u001b[1m25s\u001b[0m 102ms/step - accuracy: 0.5517 - loss: 1.0169 - val_accuracy: 0.6088 - val_loss: 0.9460\n"
     ]
    }
   ],
   "source": [
    "from tensorflow.keras.callbacks import EarlyStopping, ModelCheckpoint\n",
    "\n",
    "callbacks = [\n",
    "    EarlyStopping(monitor=\"val_accuracy\", patience=5, restore_best_weights=True),\n",
    "    ModelCheckpoint(\"../models/XAUUSD_M5_lstm_best.h5\", monitor=\"val_accuracy\", save_best_only=True)\n",
    "]\n",
    "\n",
    "history = model.fit(\n",
    "    X_train, y_train,\n",
    "    validation_data=(X_val, y_val),\n",
    "    epochs=50,\n",
    "    batch_size=64,\n",
    "    callbacks=callbacks,\n",
    "    verbose=1\n",
    ")\n"
   ]
  },
  {
   "cell_type": "code",
   "execution_count": 9,
   "id": "4a4bb157",
   "metadata": {},
   "outputs": [
    {
     "data": {
      "image/png": "[encoded data removed]",
      "text/plain": [
       "<Figure size 1000x400 with 1 Axes>"
      ]
     },
     "metadata": {},
     "output_type": "display_data"
    },
    {
     "data": {
      "image/png": "[encoded data removed]",
      "text/plain": [
       "<Figure size 1000x400 with 1 Axes>"
      ]
     },
     "metadata": {},
     "output_type": "display_data"
    }
   ],
   "source": [
    "import matplotlib.pyplot as plt\n",
    "\n",
    "# Accuracy\n",
    "plt.figure(figsize=(10,4))\n",
    "plt.plot(history.history[\"accuracy\"], label=\"train_acc\")\n",
    "plt.plot(history.history[\"val_accuracy\"], label=\"val_acc\")\n",
    "plt.title(\"Accuracy over Epochs (3-Class LSTM)\")\n",
    "plt.xlabel(\"Epoch\")\n",
    "plt.ylabel(\"Accuracy\")\n",
    "plt.legend()\n",
    "plt.grid(True)\n",
    "plt.show()\n",
    "\n",
    "# Loss\n",
    "plt.figure(figsize=(10,4))\n",
    "plt.plot(history.history[\"loss\"], label=\"train_loss\")\n",
    "plt.plot(history.history[\"val_loss\"], label=\"val_loss\")\n",
    "plt.title(\"Loss over Epochs (3-Class LSTM)\")\n",
    "plt.xlabel(\"Epoch\")\n",
    "plt.ylabel(\"Loss\")\n",
    "plt.legend()\n",
    "plt.grid(True)\n",
    "plt.show()\n"
   ]
  }
 ],
 "metadata": {
  "kernelspec": {
   "display_name": "Python 3",
   "language": "python",
   "name": "python3"
  },
  "language_info": {
   "codemirror_mode": {
    "name": "ipython",
    "version": 3
   },
   "file_extension": ".py",
   "mimetype": "text/x-python",
   "name": "python",
   "nbconvert_exporter": "python",
   "pygments_lexer": "ipython3",
   "version": "3.11.0"
  }
 },
 "nbformat": 4,
 "nbformat_minor": 5
}
